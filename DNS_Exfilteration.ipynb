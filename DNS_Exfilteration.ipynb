{
  "metadata": {
    "kernelspec": {
      "language": "python",
      "display_name": "Python 3",
      "name": "python3"
    },
    "language_info": {
      "name": "python",
      "version": "3.10.13",
      "mimetype": "text/x-python",
      "codemirror_mode": {
        "name": "ipython",
        "version": 3
      },
      "pygments_lexer": "ipython3",
      "nbconvert_exporter": "python",
      "file_extension": ".py"
    },
    "kaggle": {
      "accelerator": "none",
      "dataSources": [],
      "dockerImageVersionId": 30673,
      "isInternetEnabled": true,
      "language": "python",
      "sourceType": "notebook",
      "isGpuEnabled": false
    },
    "colab": {
      "name": "DNS Exfilteration",
      "provenance": [],
      "include_colab_link": true
    }
  },
  "nbformat_minor": 0,
  "nbformat": 4,
  "cells": [
    {
      "cell_type": "markdown",
      "metadata": {
        "id": "view-in-github",
        "colab_type": "text"
      },
      "source": [
        "<a href=\"https://colab.research.google.com/github/mshreeharsha/MiniProject_DNS/blob/main/DNS_Exfilteration.ipynb\" target=\"_parent\"><img src=\"https://colab.research.google.com/assets/colab-badge.svg\" alt=\"Open In Colab\"/></a>"
      ]
    },
    {
      "cell_type": "code",
      "source": [
        "!conda install -y gdown"
      ],
      "metadata": {
        "_uuid": "8f2839f25d086af736a60e9eeb907d3b93b6e0e5",
        "_cell_guid": "b1076dfc-b9ad-4769-8c92-a6c4dae69d19",
        "trusted": true,
        "id": "eDIAmmQBpIv7"
      },
      "execution_count": null,
      "outputs": []
    },
    {
      "cell_type": "code",
      "source": [
        "!gdown --id 1yqkIVhUwInBzefGWfcAskmIrvKWtMCRZ"
      ],
      "metadata": {
        "execution": {
          "iopub.status.busy": "2024-03-26T07:16:30.925866Z",
          "iopub.execute_input": "2024-03-26T07:16:30.926276Z",
          "iopub.status.idle": "2024-03-26T07:17:58.881853Z",
          "shell.execute_reply.started": "2024-03-26T07:16:30.92624Z",
          "shell.execute_reply": "2024-03-26T07:17:58.879819Z"
        },
        "trusted": true,
        "id": "cltpr9n7pIv_",
        "outputId": "328e643b-f037-4385-edc7-cf12aad6175f"
      },
      "execution_count": null,
      "outputs": [
        {
          "name": "stdout",
          "text": "/opt/conda/lib/python3.10/site-packages/gdown/__main__.py:132: FutureWarning: Option `--id` was deprecated in version 4.3.1 and will be removed in 5.0. You don't need to pass it anymore to use a file ID.\n  warnings.warn(\nDownloading...\nFrom (original): https://drive.google.com/uc?id=1yqkIVhUwInBzefGWfcAskmIrvKWtMCRZ\nFrom (redirected): https://drive.google.com/uc?id=1yqkIVhUwInBzefGWfcAskmIrvKWtMCRZ&confirm=t&uuid=df726c99-3071-474e-9c16-d76529a5caa1\nTo: /kaggle/working/dataset.csv\n100%|██████████████████████████████████████| 8.25G/8.25G [01:24<00:00, 97.3MB/s]\n",
          "output_type": "stream"
        }
      ]
    },
    {
      "cell_type": "code",
      "source": [
        "import pandas as pd\n",
        "import math\n",
        "from sklearn.utils import shuffle\n",
        "from sklearn.metrics import accuracy_score, confusion_matrix,classification_report"
      ],
      "metadata": {
        "execution": {
          "iopub.status.busy": "2024-03-26T07:18:06.925023Z",
          "iopub.execute_input": "2024-03-26T07:18:06.925559Z",
          "iopub.status.idle": "2024-03-26T07:18:09.810371Z",
          "shell.execute_reply.started": "2024-03-26T07:18:06.925514Z",
          "shell.execute_reply": "2024-03-26T07:18:09.80879Z"
        },
        "trusted": true,
        "id": "QgY2ajIfpIwA"
      },
      "execution_count": null,
      "outputs": []
    },
    {
      "cell_type": "code",
      "source": [
        "data = pd.read_csv('./dataset.csv')\n"
      ],
      "metadata": {
        "execution": {
          "iopub.status.busy": "2024-03-26T07:18:11.350916Z",
          "iopub.execute_input": "2024-03-26T07:18:11.351523Z",
          "iopub.status.idle": "2024-03-26T07:21:38.565472Z",
          "shell.execute_reply.started": "2024-03-26T07:18:11.351486Z",
          "shell.execute_reply": "2024-03-26T07:21:38.56412Z"
        },
        "trusted": true,
        "id": "K_zAVTB2pIwB"
      },
      "execution_count": null,
      "outputs": []
    },
    {
      "cell_type": "code",
      "source": [
        "data.columns=[\"user_ip\",\"domain\",\"timestamp\",\"attack\",\"request\",\"len\",\"subdomains_count\",\"w_count\",\"w_max\",\"entropy\",\"w_max_ratio\",\"w_count_ratio\",\"digits_ratio\",\"uppercase_ratio\",\"time_avg\",\"time_stdev\",\"size_avg\",\"size_stdev\",\"throughput\",\"unique\",\"entropy_avg\",\"entropy_stdev\"]\n",
        "data.head()"
      ],
      "metadata": {
        "execution": {
          "iopub.status.busy": "2024-03-26T07:22:07.087713Z",
          "iopub.execute_input": "2024-03-26T07:22:07.088157Z",
          "iopub.status.idle": "2024-03-26T07:22:07.136477Z",
          "shell.execute_reply.started": "2024-03-26T07:22:07.088127Z",
          "shell.execute_reply": "2024-03-26T07:22:07.135244Z"
        },
        "trusted": true,
        "id": "I7o11BR4pIwB",
        "outputId": "cd2577e2-557e-4ae6-a40b-49bf3597a1ce"
      },
      "execution_count": null,
      "outputs": [
        {
          "execution_count": 6,
          "output_type": "execute_result",
          "data": {
            "text/plain": "          user_ip        domain      timestamp  attack  \\\n0  186.169.253.58     surbl.org  1624438272607   False   \n1  186.169.253.58  spamhaus.org  1624438273058   False   \n2  186.169.253.58  spamhaus.org  1624438273058   False   \n3  186.169.253.58  spamhaus.org  1624438273059   False   \n4  186.169.253.58  spamhaus.org  1624438273059   False   \n\n                           request  len  subdomains_count  w_count  w_max  \\\n0                      f.surbl.org    1                 1        0      0   \n1  118.141.11.106.sbl.spamhaus.org   18                 5        0      0   \n2  118.141.11.106.zen.spamhaus.org   18                 5        1      3   \n3  128.141.11.106.sbl.spamhaus.org   18                 5        0      0   \n4  128.141.11.106.zen.spamhaus.org   18                 5        1      3   \n\n    entropy  ...  digits_ratio  uppercase_ratio   time_avg  time_stdev  \\\n0 -0.000000  ...      0.000000              0.0   0.222222    0.440959   \n1  2.633731  ...      0.611111              0.0  55.555556  165.542375   \n2  2.633731  ...      0.611111              0.0   0.333333    0.500000   \n3  2.863826  ...      0.611111              0.0   0.333333    0.500000   \n4  2.863826  ...      0.611111              0.0   0.333333    0.500000   \n\n   size_avg  size_stdev    throughput    unique  entropy_avg  entropy_stdev  \n0       1.0    0.000000   3333.333333  0.555556     0.000000       0.000000  \n1      17.2    0.421637    343.313373  0.000000     3.048277       0.177285  \n2      17.2    0.421637  43000.000000  0.000000     2.983547       0.199622  \n3      17.3    0.483046  43250.000000  0.000000     2.959741       0.198131  \n4      17.4    0.516398  43500.000000  0.000000     2.935936       0.193400  \n\n[5 rows x 22 columns]",
            "text/html": "<div>\n<style scoped>\n    .dataframe tbody tr th:only-of-type {\n        vertical-align: middle;\n    }\n\n    .dataframe tbody tr th {\n        vertical-align: top;\n    }\n\n    .dataframe thead th {\n        text-align: right;\n    }\n</style>\n<table border=\"1\" class=\"dataframe\">\n  <thead>\n    <tr style=\"text-align: right;\">\n      <th></th>\n      <th>user_ip</th>\n      <th>domain</th>\n      <th>timestamp</th>\n      <th>attack</th>\n      <th>request</th>\n      <th>len</th>\n      <th>subdomains_count</th>\n      <th>w_count</th>\n      <th>w_max</th>\n      <th>entropy</th>\n      <th>...</th>\n      <th>digits_ratio</th>\n      <th>uppercase_ratio</th>\n      <th>time_avg</th>\n      <th>time_stdev</th>\n      <th>size_avg</th>\n      <th>size_stdev</th>\n      <th>throughput</th>\n      <th>unique</th>\n      <th>entropy_avg</th>\n      <th>entropy_stdev</th>\n    </tr>\n  </thead>\n  <tbody>\n    <tr>\n      <th>0</th>\n      <td>186.169.253.58</td>\n      <td>surbl.org</td>\n      <td>1624438272607</td>\n      <td>False</td>\n      <td>f.surbl.org</td>\n      <td>1</td>\n      <td>1</td>\n      <td>0</td>\n      <td>0</td>\n      <td>-0.000000</td>\n      <td>...</td>\n      <td>0.000000</td>\n      <td>0.0</td>\n      <td>0.222222</td>\n      <td>0.440959</td>\n      <td>1.0</td>\n      <td>0.000000</td>\n      <td>3333.333333</td>\n      <td>0.555556</td>\n      <td>0.000000</td>\n      <td>0.000000</td>\n    </tr>\n    <tr>\n      <th>1</th>\n      <td>186.169.253.58</td>\n      <td>spamhaus.org</td>\n      <td>1624438273058</td>\n      <td>False</td>\n      <td>118.141.11.106.sbl.spamhaus.org</td>\n      <td>18</td>\n      <td>5</td>\n      <td>0</td>\n      <td>0</td>\n      <td>2.633731</td>\n      <td>...</td>\n      <td>0.611111</td>\n      <td>0.0</td>\n      <td>55.555556</td>\n      <td>165.542375</td>\n      <td>17.2</td>\n      <td>0.421637</td>\n      <td>343.313373</td>\n      <td>0.000000</td>\n      <td>3.048277</td>\n      <td>0.177285</td>\n    </tr>\n    <tr>\n      <th>2</th>\n      <td>186.169.253.58</td>\n      <td>spamhaus.org</td>\n      <td>1624438273058</td>\n      <td>False</td>\n      <td>118.141.11.106.zen.spamhaus.org</td>\n      <td>18</td>\n      <td>5</td>\n      <td>1</td>\n      <td>3</td>\n      <td>2.633731</td>\n      <td>...</td>\n      <td>0.611111</td>\n      <td>0.0</td>\n      <td>0.333333</td>\n      <td>0.500000</td>\n      <td>17.2</td>\n      <td>0.421637</td>\n      <td>43000.000000</td>\n      <td>0.000000</td>\n      <td>2.983547</td>\n      <td>0.199622</td>\n    </tr>\n    <tr>\n      <th>3</th>\n      <td>186.169.253.58</td>\n      <td>spamhaus.org</td>\n      <td>1624438273059</td>\n      <td>False</td>\n      <td>128.141.11.106.sbl.spamhaus.org</td>\n      <td>18</td>\n      <td>5</td>\n      <td>0</td>\n      <td>0</td>\n      <td>2.863826</td>\n      <td>...</td>\n      <td>0.611111</td>\n      <td>0.0</td>\n      <td>0.333333</td>\n      <td>0.500000</td>\n      <td>17.3</td>\n      <td>0.483046</td>\n      <td>43250.000000</td>\n      <td>0.000000</td>\n      <td>2.959741</td>\n      <td>0.198131</td>\n    </tr>\n    <tr>\n      <th>4</th>\n      <td>186.169.253.58</td>\n      <td>spamhaus.org</td>\n      <td>1624438273059</td>\n      <td>False</td>\n      <td>128.141.11.106.zen.spamhaus.org</td>\n      <td>18</td>\n      <td>5</td>\n      <td>1</td>\n      <td>3</td>\n      <td>2.863826</td>\n      <td>...</td>\n      <td>0.611111</td>\n      <td>0.0</td>\n      <td>0.333333</td>\n      <td>0.500000</td>\n      <td>17.4</td>\n      <td>0.516398</td>\n      <td>43500.000000</td>\n      <td>0.000000</td>\n      <td>2.935936</td>\n      <td>0.193400</td>\n    </tr>\n  </tbody>\n</table>\n<p>5 rows × 22 columns</p>\n</div>"
          },
          "metadata": {}
        }
      ]
    },
    {
      "cell_type": "code",
      "source": [
        "data[\"attack\"]=data[\"attack\"].astype(int)\n",
        "n=len(data[data['attack'] == 1])\n",
        "label1 = data[data['attack'] == 1]\n",
        "label0 = data[data['attack'] == 0].sample(n, random_state=42)\n",
        "data = pd.concat([label1, label0])\n",
        "data.head()"
      ],
      "metadata": {
        "execution": {
          "iopub.status.busy": "2024-03-26T07:22:11.944061Z",
          "iopub.execute_input": "2024-03-26T07:22:11.945154Z",
          "iopub.status.idle": "2024-03-26T07:22:24.841513Z",
          "shell.execute_reply.started": "2024-03-26T07:22:11.945111Z",
          "shell.execute_reply": "2024-03-26T07:22:24.840387Z"
        },
        "trusted": true,
        "id": "j5nndm0GpIwC",
        "outputId": "403cfe37-7d93-44d0-93c1-e6e65643670f"
      },
      "execution_count": null,
      "outputs": [
        {
          "execution_count": 7,
          "output_type": "execute_result",
          "data": {
            "text/plain": "              user_ip domain      timestamp  attack  \\\n3942  186.169.146.147  e5.sk  1624438294225       1   \n4297  186.169.146.147  e5.sk  1624438295586       1   \n4590  186.169.146.147  e5.sk  1624438296656       1   \n6096   186.169.127.58  e5.sk  1624438302237       1   \n6187  186.169.146.147  e5.sk  1624438302672       1   \n\n                                             request  len  subdomains_count  \\\n3942  sebubx76xk4erpp3rwehoo3ubmbqeaqbaeaq.a.e.e5.sk   40                 3   \n4297  4az3kiecotwu3okbtvfm7pdpcabqeaqbaeaq.a.e.e5.sk   40                 3   \n4590  x3i2wbqsiucuviqyfaaoxz3lzybqeaqbaeaq.a.e.e5.sk   40                 3   \n6096  ez2vzwchw3ce5m6wz6cw3nnc2ibqeaqbaeaq.a.e.e5.sk   40                 3   \n6187  htm7xrligq2enc4lsjhkzdnd6mbqeaqbaeaq.a.e.e5.sk   40                 3   \n\n      w_count  w_max   entropy  ...  digits_ratio  uppercase_ratio  \\\n3942        3      3  3.975071  ...         0.125              0.0   \n4297        5      3  4.146439  ...         0.100              0.0   \n4590        1      3  3.987326  ...         0.075              0.0   \n6096        1      3  3.893943  ...         0.175              0.0   \n6187        3      3  4.371928  ...         0.100              0.0   \n\n         time_avg   time_stdev  size_avg  size_stdev  throughput  unique  \\\n3942  2197.222222  2875.261022      48.2   53.370404   24.372977     0.0   \n4297  2348.444444  2779.448601      48.2   53.370404   22.803615     0.0   \n4590  2460.111111  2695.151964      51.8   51.228898   23.394454     0.0   \n6096  1799.222222  1935.781934      44.0   27.712813   27.170557     0.0   \n6187  3105.444444  2782.422466      51.8   51.228898   18.533095     0.0   \n\n      entropy_avg  entropy_stdev  \n3942     3.691242       0.910175  \n4297     3.685581       0.906808  \n4590     3.884313       0.687639  \n6096     3.835620       0.663023  \n6187     3.905225       0.700116  \n\n[5 rows x 22 columns]",
            "text/html": "<div>\n<style scoped>\n    .dataframe tbody tr th:only-of-type {\n        vertical-align: middle;\n    }\n\n    .dataframe tbody tr th {\n        vertical-align: top;\n    }\n\n    .dataframe thead th {\n        text-align: right;\n    }\n</style>\n<table border=\"1\" class=\"dataframe\">\n  <thead>\n    <tr style=\"text-align: right;\">\n      <th></th>\n      <th>user_ip</th>\n      <th>domain</th>\n      <th>timestamp</th>\n      <th>attack</th>\n      <th>request</th>\n      <th>len</th>\n      <th>subdomains_count</th>\n      <th>w_count</th>\n      <th>w_max</th>\n      <th>entropy</th>\n      <th>...</th>\n      <th>digits_ratio</th>\n      <th>uppercase_ratio</th>\n      <th>time_avg</th>\n      <th>time_stdev</th>\n      <th>size_avg</th>\n      <th>size_stdev</th>\n      <th>throughput</th>\n      <th>unique</th>\n      <th>entropy_avg</th>\n      <th>entropy_stdev</th>\n    </tr>\n  </thead>\n  <tbody>\n    <tr>\n      <th>3942</th>\n      <td>186.169.146.147</td>\n      <td>e5.sk</td>\n      <td>1624438294225</td>\n      <td>1</td>\n      <td>sebubx76xk4erpp3rwehoo3ubmbqeaqbaeaq.a.e.e5.sk</td>\n      <td>40</td>\n      <td>3</td>\n      <td>3</td>\n      <td>3</td>\n      <td>3.975071</td>\n      <td>...</td>\n      <td>0.125</td>\n      <td>0.0</td>\n      <td>2197.222222</td>\n      <td>2875.261022</td>\n      <td>48.2</td>\n      <td>53.370404</td>\n      <td>24.372977</td>\n      <td>0.0</td>\n      <td>3.691242</td>\n      <td>0.910175</td>\n    </tr>\n    <tr>\n      <th>4297</th>\n      <td>186.169.146.147</td>\n      <td>e5.sk</td>\n      <td>1624438295586</td>\n      <td>1</td>\n      <td>4az3kiecotwu3okbtvfm7pdpcabqeaqbaeaq.a.e.e5.sk</td>\n      <td>40</td>\n      <td>3</td>\n      <td>5</td>\n      <td>3</td>\n      <td>4.146439</td>\n      <td>...</td>\n      <td>0.100</td>\n      <td>0.0</td>\n      <td>2348.444444</td>\n      <td>2779.448601</td>\n      <td>48.2</td>\n      <td>53.370404</td>\n      <td>22.803615</td>\n      <td>0.0</td>\n      <td>3.685581</td>\n      <td>0.906808</td>\n    </tr>\n    <tr>\n      <th>4590</th>\n      <td>186.169.146.147</td>\n      <td>e5.sk</td>\n      <td>1624438296656</td>\n      <td>1</td>\n      <td>x3i2wbqsiucuviqyfaaoxz3lzybqeaqbaeaq.a.e.e5.sk</td>\n      <td>40</td>\n      <td>3</td>\n      <td>1</td>\n      <td>3</td>\n      <td>3.987326</td>\n      <td>...</td>\n      <td>0.075</td>\n      <td>0.0</td>\n      <td>2460.111111</td>\n      <td>2695.151964</td>\n      <td>51.8</td>\n      <td>51.228898</td>\n      <td>23.394454</td>\n      <td>0.0</td>\n      <td>3.884313</td>\n      <td>0.687639</td>\n    </tr>\n    <tr>\n      <th>6096</th>\n      <td>186.169.127.58</td>\n      <td>e5.sk</td>\n      <td>1624438302237</td>\n      <td>1</td>\n      <td>ez2vzwchw3ce5m6wz6cw3nnc2ibqeaqbaeaq.a.e.e5.sk</td>\n      <td>40</td>\n      <td>3</td>\n      <td>1</td>\n      <td>3</td>\n      <td>3.893943</td>\n      <td>...</td>\n      <td>0.175</td>\n      <td>0.0</td>\n      <td>1799.222222</td>\n      <td>1935.781934</td>\n      <td>44.0</td>\n      <td>27.712813</td>\n      <td>27.170557</td>\n      <td>0.0</td>\n      <td>3.835620</td>\n      <td>0.663023</td>\n    </tr>\n    <tr>\n      <th>6187</th>\n      <td>186.169.146.147</td>\n      <td>e5.sk</td>\n      <td>1624438302672</td>\n      <td>1</td>\n      <td>htm7xrligq2enc4lsjhkzdnd6mbqeaqbaeaq.a.e.e5.sk</td>\n      <td>40</td>\n      <td>3</td>\n      <td>3</td>\n      <td>3</td>\n      <td>4.371928</td>\n      <td>...</td>\n      <td>0.100</td>\n      <td>0.0</td>\n      <td>3105.444444</td>\n      <td>2782.422466</td>\n      <td>51.8</td>\n      <td>51.228898</td>\n      <td>18.533095</td>\n      <td>0.0</td>\n      <td>3.905225</td>\n      <td>0.700116</td>\n    </tr>\n  </tbody>\n</table>\n<p>5 rows × 22 columns</p>\n</div>"
          },
          "metadata": {}
        }
      ]
    },
    {
      "cell_type": "code",
      "source": [
        "print(len(data[data['attack'] == 1]))\n",
        "print(len(data[data['attack'] == 0]))\n",
        "X = data[[\"len\",\"subdomains_count\",\"w_count\",\"w_max\",\"entropy\",\"w_max_ratio\",\"w_count_ratio\",\"digits_ratio\",\"uppercase_ratio\",\"time_avg\",\"time_stdev\",\"size_avg\",\"size_stdev\",\"throughput\",\"unique\",\"entropy_avg\",\"entropy_stdev\"]]\n",
        "Y = data[\"attack\"]"
      ],
      "metadata": {
        "execution": {
          "iopub.status.busy": "2024-03-26T07:22:29.104628Z",
          "iopub.execute_input": "2024-03-26T07:22:29.105019Z",
          "iopub.status.idle": "2024-03-26T07:22:29.204056Z",
          "shell.execute_reply.started": "2024-03-26T07:22:29.104989Z",
          "shell.execute_reply": "2024-03-26T07:22:29.202686Z"
        },
        "trusted": true,
        "id": "T8B9uh7rpIwC",
        "outputId": "5f2bc596-c3a1-42e8-ece6-bd2f9440faf9"
      },
      "execution_count": null,
      "outputs": [
        {
          "name": "stdout",
          "text": "174779\n174779\n",
          "output_type": "stream"
        }
      ]
    },
    {
      "cell_type": "code",
      "source": [
        "from sklearn.model_selection import train_test_split\n",
        "\n",
        "X_train, X_test, Y_train, Y_test = train_test_split(X, Y, test_size=0.20, random_state=29)\n",
        "\n",
        "X_train, Y_train = shuffle(X_train, Y_train)\n",
        "X_test, Y_test = shuffle(X_test, Y_test)"
      ],
      "metadata": {
        "execution": {
          "iopub.status.busy": "2024-03-26T07:22:32.12535Z",
          "iopub.execute_input": "2024-03-26T07:22:32.125982Z",
          "iopub.status.idle": "2024-03-26T07:22:32.270463Z",
          "shell.execute_reply.started": "2024-03-26T07:22:32.125948Z",
          "shell.execute_reply": "2024-03-26T07:22:32.269176Z"
        },
        "trusted": true,
        "id": "KEM7ELClpIwD"
      },
      "execution_count": null,
      "outputs": []
    },
    {
      "cell_type": "code",
      "source": [
        "from sklearn.tree import DecisionTreeClassifier\n",
        "model_dtc = DecisionTreeClassifier()\n",
        "model_dtc.fit(X_train, Y_train)"
      ],
      "metadata": {
        "execution": {
          "iopub.status.busy": "2024-03-26T07:22:35.815906Z",
          "iopub.execute_input": "2024-03-26T07:22:35.816301Z",
          "iopub.status.idle": "2024-03-26T07:22:44.325658Z",
          "shell.execute_reply.started": "2024-03-26T07:22:35.816271Z",
          "shell.execute_reply": "2024-03-26T07:22:44.324406Z"
        },
        "trusted": true,
        "id": "xHSirlbcpIwE",
        "outputId": "5d4cfad3-01d0-4c2b-a8e6-4cccfea95ff3"
      },
      "execution_count": null,
      "outputs": [
        {
          "execution_count": 10,
          "output_type": "execute_result",
          "data": {
            "text/plain": "DecisionTreeClassifier()",
            "text/html": "<style>#sk-container-id-1 {color: black;background-color: white;}#sk-container-id-1 pre{padding: 0;}#sk-container-id-1 div.sk-toggleable {background-color: white;}#sk-container-id-1 label.sk-toggleable__label {cursor: pointer;display: block;width: 100%;margin-bottom: 0;padding: 0.3em;box-sizing: border-box;text-align: center;}#sk-container-id-1 label.sk-toggleable__label-arrow:before {content: \"▸\";float: left;margin-right: 0.25em;color: #696969;}#sk-container-id-1 label.sk-toggleable__label-arrow:hover:before {color: black;}#sk-container-id-1 div.sk-estimator:hover label.sk-toggleable__label-arrow:before {color: black;}#sk-container-id-1 div.sk-toggleable__content {max-height: 0;max-width: 0;overflow: hidden;text-align: left;background-color: #f0f8ff;}#sk-container-id-1 div.sk-toggleable__content pre {margin: 0.2em;color: black;border-radius: 0.25em;background-color: #f0f8ff;}#sk-container-id-1 input.sk-toggleable__control:checked~div.sk-toggleable__content {max-height: 200px;max-width: 100%;overflow: auto;}#sk-container-id-1 input.sk-toggleable__control:checked~label.sk-toggleable__label-arrow:before {content: \"▾\";}#sk-container-id-1 div.sk-estimator input.sk-toggleable__control:checked~label.sk-toggleable__label {background-color: #d4ebff;}#sk-container-id-1 div.sk-label input.sk-toggleable__control:checked~label.sk-toggleable__label {background-color: #d4ebff;}#sk-container-id-1 input.sk-hidden--visually {border: 0;clip: rect(1px 1px 1px 1px);clip: rect(1px, 1px, 1px, 1px);height: 1px;margin: -1px;overflow: hidden;padding: 0;position: absolute;width: 1px;}#sk-container-id-1 div.sk-estimator {font-family: monospace;background-color: #f0f8ff;border: 1px dotted black;border-radius: 0.25em;box-sizing: border-box;margin-bottom: 0.5em;}#sk-container-id-1 div.sk-estimator:hover {background-color: #d4ebff;}#sk-container-id-1 div.sk-parallel-item::after {content: \"\";width: 100%;border-bottom: 1px solid gray;flex-grow: 1;}#sk-container-id-1 div.sk-label:hover label.sk-toggleable__label {background-color: #d4ebff;}#sk-container-id-1 div.sk-serial::before {content: \"\";position: absolute;border-left: 1px solid gray;box-sizing: border-box;top: 0;bottom: 0;left: 50%;z-index: 0;}#sk-container-id-1 div.sk-serial {display: flex;flex-direction: column;align-items: center;background-color: white;padding-right: 0.2em;padding-left: 0.2em;position: relative;}#sk-container-id-1 div.sk-item {position: relative;z-index: 1;}#sk-container-id-1 div.sk-parallel {display: flex;align-items: stretch;justify-content: center;background-color: white;position: relative;}#sk-container-id-1 div.sk-item::before, #sk-container-id-1 div.sk-parallel-item::before {content: \"\";position: absolute;border-left: 1px solid gray;box-sizing: border-box;top: 0;bottom: 0;left: 50%;z-index: -1;}#sk-container-id-1 div.sk-parallel-item {display: flex;flex-direction: column;z-index: 1;position: relative;background-color: white;}#sk-container-id-1 div.sk-parallel-item:first-child::after {align-self: flex-end;width: 50%;}#sk-container-id-1 div.sk-parallel-item:last-child::after {align-self: flex-start;width: 50%;}#sk-container-id-1 div.sk-parallel-item:only-child::after {width: 0;}#sk-container-id-1 div.sk-dashed-wrapped {border: 1px dashed gray;margin: 0 0.4em 0.5em 0.4em;box-sizing: border-box;padding-bottom: 0.4em;background-color: white;}#sk-container-id-1 div.sk-label label {font-family: monospace;font-weight: bold;display: inline-block;line-height: 1.2em;}#sk-container-id-1 div.sk-label-container {text-align: center;}#sk-container-id-1 div.sk-container {/* jupyter's `normalize.less` sets `[hidden] { display: none; }` but bootstrap.min.css set `[hidden] { display: none !important; }` so we also need the `!important` here to be able to override the default hidden behavior on the sphinx rendered scikit-learn.org. See: https://github.com/scikit-learn/scikit-learn/issues/21755 */display: inline-block !important;position: relative;}#sk-container-id-1 div.sk-text-repr-fallback {display: none;}</style><div id=\"sk-container-id-1\" class=\"sk-top-container\"><div class=\"sk-text-repr-fallback\"><pre>DecisionTreeClassifier()</pre><b>In a Jupyter environment, please rerun this cell to show the HTML representation or trust the notebook. <br />On GitHub, the HTML representation is unable to render, please try loading this page with nbviewer.org.</b></div><div class=\"sk-container\" hidden><div class=\"sk-item\"><div class=\"sk-estimator sk-toggleable\"><input class=\"sk-toggleable__control sk-hidden--visually\" id=\"sk-estimator-id-1\" type=\"checkbox\" checked><label for=\"sk-estimator-id-1\" class=\"sk-toggleable__label sk-toggleable__label-arrow\">DecisionTreeClassifier</label><div class=\"sk-toggleable__content\"><pre>DecisionTreeClassifier()</pre></div></div></div></div></div>"
          },
          "metadata": {}
        }
      ]
    },
    {
      "cell_type": "code",
      "source": [
        "from sklearn.naive_bayes import GaussianNB\n",
        "model_nb = GaussianNB()\n",
        "model_nb.fit(X_train, Y_train)"
      ],
      "metadata": {
        "execution": {
          "iopub.status.busy": "2024-03-26T07:22:49.7724Z",
          "iopub.execute_input": "2024-03-26T07:22:49.772787Z",
          "iopub.status.idle": "2024-03-26T07:22:49.893812Z",
          "shell.execute_reply.started": "2024-03-26T07:22:49.772756Z",
          "shell.execute_reply": "2024-03-26T07:22:49.892994Z"
        },
        "trusted": true,
        "id": "mEDuUxhXpIwE",
        "outputId": "3e96e313-2867-408d-dc37-3955f99e3ccc"
      },
      "execution_count": null,
      "outputs": [
        {
          "execution_count": 12,
          "output_type": "execute_result",
          "data": {
            "text/plain": "GaussianNB()",
            "text/html": "<style>#sk-container-id-3 {color: black;background-color: white;}#sk-container-id-3 pre{padding: 0;}#sk-container-id-3 div.sk-toggleable {background-color: white;}#sk-container-id-3 label.sk-toggleable__label {cursor: pointer;display: block;width: 100%;margin-bottom: 0;padding: 0.3em;box-sizing: border-box;text-align: center;}#sk-container-id-3 label.sk-toggleable__label-arrow:before {content: \"▸\";float: left;margin-right: 0.25em;color: #696969;}#sk-container-id-3 label.sk-toggleable__label-arrow:hover:before {color: black;}#sk-container-id-3 div.sk-estimator:hover label.sk-toggleable__label-arrow:before {color: black;}#sk-container-id-3 div.sk-toggleable__content {max-height: 0;max-width: 0;overflow: hidden;text-align: left;background-color: #f0f8ff;}#sk-container-id-3 div.sk-toggleable__content pre {margin: 0.2em;color: black;border-radius: 0.25em;background-color: #f0f8ff;}#sk-container-id-3 input.sk-toggleable__control:checked~div.sk-toggleable__content {max-height: 200px;max-width: 100%;overflow: auto;}#sk-container-id-3 input.sk-toggleable__control:checked~label.sk-toggleable__label-arrow:before {content: \"▾\";}#sk-container-id-3 div.sk-estimator input.sk-toggleable__control:checked~label.sk-toggleable__label {background-color: #d4ebff;}#sk-container-id-3 div.sk-label input.sk-toggleable__control:checked~label.sk-toggleable__label {background-color: #d4ebff;}#sk-container-id-3 input.sk-hidden--visually {border: 0;clip: rect(1px 1px 1px 1px);clip: rect(1px, 1px, 1px, 1px);height: 1px;margin: -1px;overflow: hidden;padding: 0;position: absolute;width: 1px;}#sk-container-id-3 div.sk-estimator {font-family: monospace;background-color: #f0f8ff;border: 1px dotted black;border-radius: 0.25em;box-sizing: border-box;margin-bottom: 0.5em;}#sk-container-id-3 div.sk-estimator:hover {background-color: #d4ebff;}#sk-container-id-3 div.sk-parallel-item::after {content: \"\";width: 100%;border-bottom: 1px solid gray;flex-grow: 1;}#sk-container-id-3 div.sk-label:hover label.sk-toggleable__label {background-color: #d4ebff;}#sk-container-id-3 div.sk-serial::before {content: \"\";position: absolute;border-left: 1px solid gray;box-sizing: border-box;top: 0;bottom: 0;left: 50%;z-index: 0;}#sk-container-id-3 div.sk-serial {display: flex;flex-direction: column;align-items: center;background-color: white;padding-right: 0.2em;padding-left: 0.2em;position: relative;}#sk-container-id-3 div.sk-item {position: relative;z-index: 1;}#sk-container-id-3 div.sk-parallel {display: flex;align-items: stretch;justify-content: center;background-color: white;position: relative;}#sk-container-id-3 div.sk-item::before, #sk-container-id-3 div.sk-parallel-item::before {content: \"\";position: absolute;border-left: 1px solid gray;box-sizing: border-box;top: 0;bottom: 0;left: 50%;z-index: -1;}#sk-container-id-3 div.sk-parallel-item {display: flex;flex-direction: column;z-index: 1;position: relative;background-color: white;}#sk-container-id-3 div.sk-parallel-item:first-child::after {align-self: flex-end;width: 50%;}#sk-container-id-3 div.sk-parallel-item:last-child::after {align-self: flex-start;width: 50%;}#sk-container-id-3 div.sk-parallel-item:only-child::after {width: 0;}#sk-container-id-3 div.sk-dashed-wrapped {border: 1px dashed gray;margin: 0 0.4em 0.5em 0.4em;box-sizing: border-box;padding-bottom: 0.4em;background-color: white;}#sk-container-id-3 div.sk-label label {font-family: monospace;font-weight: bold;display: inline-block;line-height: 1.2em;}#sk-container-id-3 div.sk-label-container {text-align: center;}#sk-container-id-3 div.sk-container {/* jupyter's `normalize.less` sets `[hidden] { display: none; }` but bootstrap.min.css set `[hidden] { display: none !important; }` so we also need the `!important` here to be able to override the default hidden behavior on the sphinx rendered scikit-learn.org. See: https://github.com/scikit-learn/scikit-learn/issues/21755 */display: inline-block !important;position: relative;}#sk-container-id-3 div.sk-text-repr-fallback {display: none;}</style><div id=\"sk-container-id-3\" class=\"sk-top-container\"><div class=\"sk-text-repr-fallback\"><pre>GaussianNB()</pre><b>In a Jupyter environment, please rerun this cell to show the HTML representation or trust the notebook. <br />On GitHub, the HTML representation is unable to render, please try loading this page with nbviewer.org.</b></div><div class=\"sk-container\" hidden><div class=\"sk-item\"><div class=\"sk-estimator sk-toggleable\"><input class=\"sk-toggleable__control sk-hidden--visually\" id=\"sk-estimator-id-3\" type=\"checkbox\" checked><label for=\"sk-estimator-id-3\" class=\"sk-toggleable__label sk-toggleable__label-arrow\">GaussianNB</label><div class=\"sk-toggleable__content\"><pre>GaussianNB()</pre></div></div></div></div></div>"
          },
          "metadata": {}
        }
      ]
    },
    {
      "cell_type": "code",
      "source": [
        "y_preds_dtc = model_dtc.predict(X_test)\n",
        "print(\"Detection Accuracy: \",accuracy_score(Y_test, y_preds_dtc)*100,\"%\")\n",
        "print(\"Classification Report:\")\n",
        "print(classification_report(Y_test, y_preds_dtc))"
      ],
      "metadata": {
        "execution": {
          "iopub.status.busy": "2024-03-26T07:22:54.401017Z",
          "iopub.execute_input": "2024-03-26T07:22:54.401428Z",
          "iopub.status.idle": "2024-03-26T07:22:54.570821Z",
          "shell.execute_reply.started": "2024-03-26T07:22:54.401399Z",
          "shell.execute_reply": "2024-03-26T07:22:54.569392Z"
        },
        "trusted": true,
        "id": "EuTZYujkpIwF",
        "outputId": "e5187c15-43c2-4b42-91f0-d4fd67f19912"
      },
      "execution_count": null,
      "outputs": [
        {
          "name": "stdout",
          "text": "Detection Accuracy:  99.92132967158713 %\nClassification Report:\n              precision    recall  f1-score   support\n\n           0       1.00      1.00      1.00     34941\n           1       1.00      1.00      1.00     34971\n\n    accuracy                           1.00     69912\n   macro avg       1.00      1.00      1.00     69912\nweighted avg       1.00      1.00      1.00     69912\n\n",
          "output_type": "stream"
        }
      ]
    },
    {
      "cell_type": "code",
      "source": [
        "y_preds_nb = model_nb.predict(X_test)\n",
        "print(\"Detection Accuracy: \",accuracy_score(Y_test, y_preds_nb)*100,\"%\")\n",
        "print(\"Classification Report:\")\n",
        "print(classification_report(Y_test, y_preds_nb))"
      ],
      "metadata": {
        "execution": {
          "iopub.status.busy": "2024-03-26T07:22:58.44837Z",
          "iopub.execute_input": "2024-03-26T07:22:58.448782Z",
          "iopub.status.idle": "2024-03-26T07:22:58.625201Z",
          "shell.execute_reply.started": "2024-03-26T07:22:58.44875Z",
          "shell.execute_reply": "2024-03-26T07:22:58.623886Z"
        },
        "trusted": true,
        "id": "4mR7aFEVpIwF",
        "outputId": "f9d995ac-e59c-4fa8-ab8c-5cf77d160385"
      },
      "execution_count": null,
      "outputs": [
        {
          "name": "stdout",
          "text": "Detection Accuracy:  91.37773200595034 %\nClassification Report:\n              precision    recall  f1-score   support\n\n           0       0.88      0.96      0.92     34941\n           1       0.96      0.86      0.91     34971\n\n    accuracy                           0.91     69912\n   macro avg       0.92      0.91      0.91     69912\nweighted avg       0.92      0.91      0.91     69912\n\n",
          "output_type": "stream"
        }
      ]
    },
    {
      "cell_type": "code",
      "source": [],
      "metadata": {
        "id": "WG4TL-kGpIwG"
      },
      "execution_count": null,
      "outputs": []
    }
  ]
}