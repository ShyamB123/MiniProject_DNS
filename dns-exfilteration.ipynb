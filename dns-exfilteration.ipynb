{
 "cells": [
  {
   "cell_type": "code",
   "execution_count": 1,
   "id": "cefaefd8",
   "metadata": {
    "_cell_guid": "b1076dfc-b9ad-4769-8c92-a6c4dae69d19",
    "_uuid": "8f2839f25d086af736a60e9eeb907d3b93b6e0e5",
    "execution": {
     "iopub.execute_input": "2024-03-26T07:27:30.031120Z",
     "iopub.status.busy": "2024-03-26T07:27:30.029976Z",
     "iopub.status.idle": "2024-03-26T07:28:48.183548Z",
     "shell.execute_reply": "2024-03-26T07:28:48.182025Z"
    },
    "papermill": {
     "duration": 78.163618,
     "end_time": "2024-03-26T07:28:48.186526",
     "exception": false,
     "start_time": "2024-03-26T07:27:30.022908",
     "status": "completed"
    },
    "tags": []
   },
   "outputs": [
    {
     "name": "stdout",
     "output_type": "stream",
     "text": [
      "Retrieving notices: ...working... done\r\n",
      "Channels:\r\n",
      " - rapidsai\r\n",
      " - nvidia\r\n",
      " - conda-forge\r\n",
      " - defaults\r\n",
      "Platform: linux-64\r\n",
      "Collecting package metadata (repodata.json): \\ \b\b| \b\b/ \b\b- \b\b\\ \b\b| \b\b/ \b\b- \b\b\\ \b\b| \b\b/ \b\b- \b\b\\ \b\b| \b\b/ \b\b- \b\b\\ \b\b| \b\b/ \b\b- \b\b\\ \b\b| \b\b/ \b\b- \b\b\\ \b\b| \b\b/ \b\b- \b\b\\ \b\b| \b\b/ \b\b- \b\b\\ \b\b| \b\b/ \b\b- \b\b\\ \b\b| \b\b/ \b\b- \b\b\\ \b\b| \b\b/ \b\b- \b\b\\ \b\b| \b\b/ \b\b- \b\b\\ \b\b| \b\b/ \b\b- \b\b\\ \b\b| \b\b/ \b\b- \b\b\\ \b\b| \b\b/ \b\b- \b\b\\ \b\b| \b\b/ \b\b- \b\b\\ \b\b| \b\b/ \b\b- \b\b\\ \b\b| \b\b/ \b\b- \b\b\\ \b\b| \b\b/ \b\b- \b\b\\ \b\b| \b\b/ \b\b- \b\b\\ \b\b| \b\b/ \b\b- \b\b\\ \b\b| \b\b/ \b\b- \b\b\\ \b\bdone\r\n",
      "Solving environment: / \b\b- \b\b\\ \b\b| \b\b/ \b\b- \b\b\\ \b\b| \b\b/ \b\b- \b\b\\ \b\b| \b\b/ \b\b- \b\b\\ \b\b| \b\b/ \b\b- \b\b\\ \b\b| \b\b/ \b\b- \b\b\\ \b\bdone\r\n",
      "\r\n",
      "\r\n",
      "==> WARNING: A newer version of conda exists. <==\r\n",
      "    current version: 24.1.2\r\n",
      "    latest version: 24.3.0\r\n",
      "\r\n",
      "Please update conda by running\r\n",
      "\r\n",
      "    $ conda update -n base -c conda-forge conda\r\n",
      "\r\n",
      "\r\n",
      "\r\n",
      "## Package Plan ##\r\n",
      "\r\n",
      "  environment location: /opt/conda\r\n",
      "\r\n",
      "  added / updated specs:\r\n",
      "    - gdown\r\n",
      "\r\n",
      "\r\n",
      "The following packages will be downloaded:\r\n",
      "\r\n",
      "    package                    |            build\r\n",
      "    ---------------------------|-----------------\r\n",
      "    filelock-3.13.3            |     pyhd8ed1ab_0          15 KB  conda-forge\r\n",
      "    gdown-5.1.0                |     pyhd8ed1ab_0          21 KB  conda-forge\r\n",
      "    openssl-3.2.1              |       hd590300_1         2.7 MB  conda-forge\r\n",
      "    ------------------------------------------------------------\r\n",
      "                                           Total:         2.8 MB\r\n",
      "\r\n",
      "The following NEW packages will be INSTALLED:\r\n",
      "\r\n",
      "  filelock           conda-forge/noarch::filelock-3.13.3-pyhd8ed1ab_0 \r\n",
      "  gdown              conda-forge/noarch::gdown-5.1.0-pyhd8ed1ab_0 \r\n",
      "\r\n",
      "The following packages will be UPDATED:\r\n",
      "\r\n",
      "  openssl                                  3.2.1-hd590300_0 --> 3.2.1-hd590300_1 \r\n",
      "\r\n",
      "\r\n",
      "\r\n",
      "Downloading and Extracting Packages:\r\n",
      "openssl-3.2.1        | 2.7 MB    |                                       |   0% \r\n",
      "gdown-5.1.0          | 21 KB     |                                       |   0% \u001b[A\r\n",
      "\r\n",
      "filelock-3.13.3      | 15 KB     |                                       |   0% \u001b[A\u001b[A\r\n",
      "gdown-5.1.0          | 21 KB     | ############################2         |  76% \u001b[A\r\n",
      "\r\n",
      "filelock-3.13.3      | 15 KB     | ##################################### | 100% \u001b[A\u001b[A\r\n",
      "\r\n",
      "openssl-3.2.1        | 2.7 MB    | 2                                     |   1% \r\n",
      "\r\n",
      "                                                                                \u001b[A\r\n",
      "\r\n",
      "\r\n",
      "Preparing transaction: / \b\bdone\r\n",
      "Verifying transaction: \\ \b\b| \b\bdone\r\n",
      "Executing transaction: - \b\b\\ \b\b| \b\b/ \b\b- \b\b\\ \b\b| \b\b/ \b\b- \b\b\\ \b\b| \b\b/ \b\b- \b\b\\ \b\b| \b\b/ \b\b- \b\b\\ \b\b| \b\b/ \b\b- \b\b\\ \b\b| \b\b/ \b\b- \b\b\\ \b\bdone\r\n"
     ]
    }
   ],
   "source": [
    "!conda install -y gdown"
   ]
  },
  {
   "cell_type": "code",
   "execution_count": 2,
   "id": "6eadb1fa",
   "metadata": {
    "execution": {
     "iopub.execute_input": "2024-03-26T07:28:48.227361Z",
     "iopub.status.busy": "2024-03-26T07:28:48.226927Z",
     "iopub.status.idle": "2024-03-26T07:29:59.097792Z",
     "shell.execute_reply": "2024-03-26T07:29:59.095587Z"
    },
    "papermill": {
     "duration": 70.895404,
     "end_time": "2024-03-26T07:29:59.101340",
     "exception": false,
     "start_time": "2024-03-26T07:28:48.205936",
     "status": "completed"
    },
    "tags": []
   },
   "outputs": [
    {
     "name": "stdout",
     "output_type": "stream",
     "text": [
      "/opt/conda/lib/python3.10/site-packages/gdown/__main__.py:132: FutureWarning: Option `--id` was deprecated in version 4.3.1 and will be removed in 5.0. You don't need to pass it anymore to use a file ID.\r\n",
      "  warnings.warn(\r\n",
      "Downloading...\r\n",
      "From (original): https://drive.google.com/uc?id=1yqkIVhUwInBzefGWfcAskmIrvKWtMCRZ\r\n",
      "From (redirected): https://drive.google.com/uc?id=1yqkIVhUwInBzefGWfcAskmIrvKWtMCRZ&confirm=t&uuid=573a287a-8a09-4ac7-b654-e592d862e83a\r\n",
      "To: /kaggle/working/dataset.csv\r\n",
      "100%|███████████████████████████████████████| 8.25G/8.25G [01:08<00:00, 121MB/s]\r\n"
     ]
    }
   ],
   "source": [
    "!gdown --id 1yqkIVhUwInBzefGWfcAskmIrvKWtMCRZ"
   ]
  },
  {
   "cell_type": "code",
   "execution_count": 3,
   "id": "47b1859f",
   "metadata": {
    "execution": {
     "iopub.execute_input": "2024-03-26T07:29:59.261878Z",
     "iopub.status.busy": "2024-03-26T07:29:59.261272Z",
     "iopub.status.idle": "2024-03-26T07:30:02.931018Z",
     "shell.execute_reply": "2024-03-26T07:30:02.929694Z"
    },
    "papermill": {
     "duration": 3.748656,
     "end_time": "2024-03-26T07:30:02.933837",
     "exception": false,
     "start_time": "2024-03-26T07:29:59.185181",
     "status": "completed"
    },
    "tags": []
   },
   "outputs": [],
   "source": [
    "import pandas as pd\n",
    "import math\n",
    "from sklearn.utils import shuffle\n",
    "from sklearn.metrics import accuracy_score, confusion_matrix,classification_report"
   ]
  },
  {
   "cell_type": "code",
   "execution_count": 4,
   "id": "82de10f9",
   "metadata": {
    "execution": {
     "iopub.execute_input": "2024-03-26T07:30:03.078683Z",
     "iopub.status.busy": "2024-03-26T07:30:03.078013Z",
     "iopub.status.idle": "2024-03-26T07:33:44.485526Z",
     "shell.execute_reply": "2024-03-26T07:33:44.484421Z"
    },
    "papermill": {
     "duration": 221.48303,
     "end_time": "2024-03-26T07:33:44.488461",
     "exception": false,
     "start_time": "2024-03-26T07:30:03.005431",
     "status": "completed"
    },
    "tags": []
   },
   "outputs": [],
   "source": [
    "data = pd.read_csv('./dataset.csv')\n"
   ]
  },
  {
   "cell_type": "code",
   "execution_count": 5,
   "id": "c57331a7",
   "metadata": {
    "execution": {
     "iopub.execute_input": "2024-03-26T07:33:44.631776Z",
     "iopub.status.busy": "2024-03-26T07:33:44.630359Z",
     "iopub.status.idle": "2024-03-26T07:33:44.681227Z",
     "shell.execute_reply": "2024-03-26T07:33:44.679763Z"
    },
    "papermill": {
     "duration": 0.124976,
     "end_time": "2024-03-26T07:33:44.683971",
     "exception": false,
     "start_time": "2024-03-26T07:33:44.558995",
     "status": "completed"
    },
    "tags": []
   },
   "outputs": [
    {
     "data": {
      "text/html": [
       "<div>\n",
       "<style scoped>\n",
       "    .dataframe tbody tr th:only-of-type {\n",
       "        vertical-align: middle;\n",
       "    }\n",
       "\n",
       "    .dataframe tbody tr th {\n",
       "        vertical-align: top;\n",
       "    }\n",
       "\n",
       "    .dataframe thead th {\n",
       "        text-align: right;\n",
       "    }\n",
       "</style>\n",
       "<table border=\"1\" class=\"dataframe\">\n",
       "  <thead>\n",
       "    <tr style=\"text-align: right;\">\n",
       "      <th></th>\n",
       "      <th>user_ip</th>\n",
       "      <th>domain</th>\n",
       "      <th>timestamp</th>\n",
       "      <th>attack</th>\n",
       "      <th>request</th>\n",
       "      <th>len</th>\n",
       "      <th>subdomains_count</th>\n",
       "      <th>w_count</th>\n",
       "      <th>w_max</th>\n",
       "      <th>entropy</th>\n",
       "      <th>...</th>\n",
       "      <th>digits_ratio</th>\n",
       "      <th>uppercase_ratio</th>\n",
       "      <th>time_avg</th>\n",
       "      <th>time_stdev</th>\n",
       "      <th>size_avg</th>\n",
       "      <th>size_stdev</th>\n",
       "      <th>throughput</th>\n",
       "      <th>unique</th>\n",
       "      <th>entropy_avg</th>\n",
       "      <th>entropy_stdev</th>\n",
       "    </tr>\n",
       "  </thead>\n",
       "  <tbody>\n",
       "    <tr>\n",
       "      <th>0</th>\n",
       "      <td>186.169.253.58</td>\n",
       "      <td>surbl.org</td>\n",
       "      <td>1624438272607</td>\n",
       "      <td>False</td>\n",
       "      <td>f.surbl.org</td>\n",
       "      <td>1</td>\n",
       "      <td>1</td>\n",
       "      <td>0</td>\n",
       "      <td>0</td>\n",
       "      <td>-0.000000</td>\n",
       "      <td>...</td>\n",
       "      <td>0.000000</td>\n",
       "      <td>0.0</td>\n",
       "      <td>0.222222</td>\n",
       "      <td>0.440959</td>\n",
       "      <td>1.0</td>\n",
       "      <td>0.000000</td>\n",
       "      <td>3333.333333</td>\n",
       "      <td>0.555556</td>\n",
       "      <td>0.000000</td>\n",
       "      <td>0.000000</td>\n",
       "    </tr>\n",
       "    <tr>\n",
       "      <th>1</th>\n",
       "      <td>186.169.253.58</td>\n",
       "      <td>spamhaus.org</td>\n",
       "      <td>1624438273058</td>\n",
       "      <td>False</td>\n",
       "      <td>118.141.11.106.sbl.spamhaus.org</td>\n",
       "      <td>18</td>\n",
       "      <td>5</td>\n",
       "      <td>0</td>\n",
       "      <td>0</td>\n",
       "      <td>2.633731</td>\n",
       "      <td>...</td>\n",
       "      <td>0.611111</td>\n",
       "      <td>0.0</td>\n",
       "      <td>55.555556</td>\n",
       "      <td>165.542375</td>\n",
       "      <td>17.2</td>\n",
       "      <td>0.421637</td>\n",
       "      <td>343.313373</td>\n",
       "      <td>0.000000</td>\n",
       "      <td>3.048277</td>\n",
       "      <td>0.177285</td>\n",
       "    </tr>\n",
       "    <tr>\n",
       "      <th>2</th>\n",
       "      <td>186.169.253.58</td>\n",
       "      <td>spamhaus.org</td>\n",
       "      <td>1624438273058</td>\n",
       "      <td>False</td>\n",
       "      <td>118.141.11.106.zen.spamhaus.org</td>\n",
       "      <td>18</td>\n",
       "      <td>5</td>\n",
       "      <td>1</td>\n",
       "      <td>3</td>\n",
       "      <td>2.633731</td>\n",
       "      <td>...</td>\n",
       "      <td>0.611111</td>\n",
       "      <td>0.0</td>\n",
       "      <td>0.333333</td>\n",
       "      <td>0.500000</td>\n",
       "      <td>17.2</td>\n",
       "      <td>0.421637</td>\n",
       "      <td>43000.000000</td>\n",
       "      <td>0.000000</td>\n",
       "      <td>2.983547</td>\n",
       "      <td>0.199622</td>\n",
       "    </tr>\n",
       "    <tr>\n",
       "      <th>3</th>\n",
       "      <td>186.169.253.58</td>\n",
       "      <td>spamhaus.org</td>\n",
       "      <td>1624438273059</td>\n",
       "      <td>False</td>\n",
       "      <td>128.141.11.106.sbl.spamhaus.org</td>\n",
       "      <td>18</td>\n",
       "      <td>5</td>\n",
       "      <td>0</td>\n",
       "      <td>0</td>\n",
       "      <td>2.863826</td>\n",
       "      <td>...</td>\n",
       "      <td>0.611111</td>\n",
       "      <td>0.0</td>\n",
       "      <td>0.333333</td>\n",
       "      <td>0.500000</td>\n",
       "      <td>17.3</td>\n",
       "      <td>0.483046</td>\n",
       "      <td>43250.000000</td>\n",
       "      <td>0.000000</td>\n",
       "      <td>2.959741</td>\n",
       "      <td>0.198131</td>\n",
       "    </tr>\n",
       "    <tr>\n",
       "      <th>4</th>\n",
       "      <td>186.169.253.58</td>\n",
       "      <td>spamhaus.org</td>\n",
       "      <td>1624438273059</td>\n",
       "      <td>False</td>\n",
       "      <td>128.141.11.106.zen.spamhaus.org</td>\n",
       "      <td>18</td>\n",
       "      <td>5</td>\n",
       "      <td>1</td>\n",
       "      <td>3</td>\n",
       "      <td>2.863826</td>\n",
       "      <td>...</td>\n",
       "      <td>0.611111</td>\n",
       "      <td>0.0</td>\n",
       "      <td>0.333333</td>\n",
       "      <td>0.500000</td>\n",
       "      <td>17.4</td>\n",
       "      <td>0.516398</td>\n",
       "      <td>43500.000000</td>\n",
       "      <td>0.000000</td>\n",
       "      <td>2.935936</td>\n",
       "      <td>0.193400</td>\n",
       "    </tr>\n",
       "  </tbody>\n",
       "</table>\n",
       "<p>5 rows × 22 columns</p>\n",
       "</div>"
      ],
      "text/plain": [
       "          user_ip        domain      timestamp  attack  \\\n",
       "0  186.169.253.58     surbl.org  1624438272607   False   \n",
       "1  186.169.253.58  spamhaus.org  1624438273058   False   \n",
       "2  186.169.253.58  spamhaus.org  1624438273058   False   \n",
       "3  186.169.253.58  spamhaus.org  1624438273059   False   \n",
       "4  186.169.253.58  spamhaus.org  1624438273059   False   \n",
       "\n",
       "                           request  len  subdomains_count  w_count  w_max  \\\n",
       "0                      f.surbl.org    1                 1        0      0   \n",
       "1  118.141.11.106.sbl.spamhaus.org   18                 5        0      0   \n",
       "2  118.141.11.106.zen.spamhaus.org   18                 5        1      3   \n",
       "3  128.141.11.106.sbl.spamhaus.org   18                 5        0      0   \n",
       "4  128.141.11.106.zen.spamhaus.org   18                 5        1      3   \n",
       "\n",
       "    entropy  ...  digits_ratio  uppercase_ratio   time_avg  time_stdev  \\\n",
       "0 -0.000000  ...      0.000000              0.0   0.222222    0.440959   \n",
       "1  2.633731  ...      0.611111              0.0  55.555556  165.542375   \n",
       "2  2.633731  ...      0.611111              0.0   0.333333    0.500000   \n",
       "3  2.863826  ...      0.611111              0.0   0.333333    0.500000   \n",
       "4  2.863826  ...      0.611111              0.0   0.333333    0.500000   \n",
       "\n",
       "   size_avg  size_stdev    throughput    unique  entropy_avg  entropy_stdev  \n",
       "0       1.0    0.000000   3333.333333  0.555556     0.000000       0.000000  \n",
       "1      17.2    0.421637    343.313373  0.000000     3.048277       0.177285  \n",
       "2      17.2    0.421637  43000.000000  0.000000     2.983547       0.199622  \n",
       "3      17.3    0.483046  43250.000000  0.000000     2.959741       0.198131  \n",
       "4      17.4    0.516398  43500.000000  0.000000     2.935936       0.193400  \n",
       "\n",
       "[5 rows x 22 columns]"
      ]
     },
     "execution_count": 5,
     "metadata": {},
     "output_type": "execute_result"
    }
   ],
   "source": [
    "data.columns=[\"user_ip\",\"domain\",\"timestamp\",\"attack\",\"request\",\"len\",\"subdomains_count\",\"w_count\",\"w_max\",\"entropy\",\"w_max_ratio\",\"w_count_ratio\",\"digits_ratio\",\"uppercase_ratio\",\"time_avg\",\"time_stdev\",\"size_avg\",\"size_stdev\",\"throughput\",\"unique\",\"entropy_avg\",\"entropy_stdev\"]\n",
    "data.head()"
   ]
  },
  {
   "cell_type": "code",
   "execution_count": 6,
   "id": "699cf8c2",
   "metadata": {
    "execution": {
     "iopub.execute_input": "2024-03-26T07:33:44.827482Z",
     "iopub.status.busy": "2024-03-26T07:33:44.827070Z",
     "iopub.status.idle": "2024-03-26T07:33:53.223856Z",
     "shell.execute_reply": "2024-03-26T07:33:53.222736Z"
    },
    "papermill": {
     "duration": 8.472099,
     "end_time": "2024-03-26T07:33:53.226488",
     "exception": false,
     "start_time": "2024-03-26T07:33:44.754389",
     "status": "completed"
    },
    "tags": []
   },
   "outputs": [
    {
     "data": {
      "text/html": [
       "<div>\n",
       "<style scoped>\n",
       "    .dataframe tbody tr th:only-of-type {\n",
       "        vertical-align: middle;\n",
       "    }\n",
       "\n",
       "    .dataframe tbody tr th {\n",
       "        vertical-align: top;\n",
       "    }\n",
       "\n",
       "    .dataframe thead th {\n",
       "        text-align: right;\n",
       "    }\n",
       "</style>\n",
       "<table border=\"1\" class=\"dataframe\">\n",
       "  <thead>\n",
       "    <tr style=\"text-align: right;\">\n",
       "      <th></th>\n",
       "      <th>user_ip</th>\n",
       "      <th>domain</th>\n",
       "      <th>timestamp</th>\n",
       "      <th>attack</th>\n",
       "      <th>request</th>\n",
       "      <th>len</th>\n",
       "      <th>subdomains_count</th>\n",
       "      <th>w_count</th>\n",
       "      <th>w_max</th>\n",
       "      <th>entropy</th>\n",
       "      <th>...</th>\n",
       "      <th>digits_ratio</th>\n",
       "      <th>uppercase_ratio</th>\n",
       "      <th>time_avg</th>\n",
       "      <th>time_stdev</th>\n",
       "      <th>size_avg</th>\n",
       "      <th>size_stdev</th>\n",
       "      <th>throughput</th>\n",
       "      <th>unique</th>\n",
       "      <th>entropy_avg</th>\n",
       "      <th>entropy_stdev</th>\n",
       "    </tr>\n",
       "  </thead>\n",
       "  <tbody>\n",
       "    <tr>\n",
       "      <th>3942</th>\n",
       "      <td>186.169.146.147</td>\n",
       "      <td>e5.sk</td>\n",
       "      <td>1624438294225</td>\n",
       "      <td>1</td>\n",
       "      <td>sebubx76xk4erpp3rwehoo3ubmbqeaqbaeaq.a.e.e5.sk</td>\n",
       "      <td>40</td>\n",
       "      <td>3</td>\n",
       "      <td>3</td>\n",
       "      <td>3</td>\n",
       "      <td>3.975071</td>\n",
       "      <td>...</td>\n",
       "      <td>0.125</td>\n",
       "      <td>0.0</td>\n",
       "      <td>2197.222222</td>\n",
       "      <td>2875.261022</td>\n",
       "      <td>48.2</td>\n",
       "      <td>53.370404</td>\n",
       "      <td>24.372977</td>\n",
       "      <td>0.0</td>\n",
       "      <td>3.691242</td>\n",
       "      <td>0.910175</td>\n",
       "    </tr>\n",
       "    <tr>\n",
       "      <th>4297</th>\n",
       "      <td>186.169.146.147</td>\n",
       "      <td>e5.sk</td>\n",
       "      <td>1624438295586</td>\n",
       "      <td>1</td>\n",
       "      <td>4az3kiecotwu3okbtvfm7pdpcabqeaqbaeaq.a.e.e5.sk</td>\n",
       "      <td>40</td>\n",
       "      <td>3</td>\n",
       "      <td>5</td>\n",
       "      <td>3</td>\n",
       "      <td>4.146439</td>\n",
       "      <td>...</td>\n",
       "      <td>0.100</td>\n",
       "      <td>0.0</td>\n",
       "      <td>2348.444444</td>\n",
       "      <td>2779.448601</td>\n",
       "      <td>48.2</td>\n",
       "      <td>53.370404</td>\n",
       "      <td>22.803615</td>\n",
       "      <td>0.0</td>\n",
       "      <td>3.685581</td>\n",
       "      <td>0.906808</td>\n",
       "    </tr>\n",
       "    <tr>\n",
       "      <th>4590</th>\n",
       "      <td>186.169.146.147</td>\n",
       "      <td>e5.sk</td>\n",
       "      <td>1624438296656</td>\n",
       "      <td>1</td>\n",
       "      <td>x3i2wbqsiucuviqyfaaoxz3lzybqeaqbaeaq.a.e.e5.sk</td>\n",
       "      <td>40</td>\n",
       "      <td>3</td>\n",
       "      <td>1</td>\n",
       "      <td>3</td>\n",
       "      <td>3.987326</td>\n",
       "      <td>...</td>\n",
       "      <td>0.075</td>\n",
       "      <td>0.0</td>\n",
       "      <td>2460.111111</td>\n",
       "      <td>2695.151964</td>\n",
       "      <td>51.8</td>\n",
       "      <td>51.228898</td>\n",
       "      <td>23.394454</td>\n",
       "      <td>0.0</td>\n",
       "      <td>3.884313</td>\n",
       "      <td>0.687639</td>\n",
       "    </tr>\n",
       "    <tr>\n",
       "      <th>6096</th>\n",
       "      <td>186.169.127.58</td>\n",
       "      <td>e5.sk</td>\n",
       "      <td>1624438302237</td>\n",
       "      <td>1</td>\n",
       "      <td>ez2vzwchw3ce5m6wz6cw3nnc2ibqeaqbaeaq.a.e.e5.sk</td>\n",
       "      <td>40</td>\n",
       "      <td>3</td>\n",
       "      <td>1</td>\n",
       "      <td>3</td>\n",
       "      <td>3.893943</td>\n",
       "      <td>...</td>\n",
       "      <td>0.175</td>\n",
       "      <td>0.0</td>\n",
       "      <td>1799.222222</td>\n",
       "      <td>1935.781934</td>\n",
       "      <td>44.0</td>\n",
       "      <td>27.712813</td>\n",
       "      <td>27.170557</td>\n",
       "      <td>0.0</td>\n",
       "      <td>3.835620</td>\n",
       "      <td>0.663023</td>\n",
       "    </tr>\n",
       "    <tr>\n",
       "      <th>6187</th>\n",
       "      <td>186.169.146.147</td>\n",
       "      <td>e5.sk</td>\n",
       "      <td>1624438302672</td>\n",
       "      <td>1</td>\n",
       "      <td>htm7xrligq2enc4lsjhkzdnd6mbqeaqbaeaq.a.e.e5.sk</td>\n",
       "      <td>40</td>\n",
       "      <td>3</td>\n",
       "      <td>3</td>\n",
       "      <td>3</td>\n",
       "      <td>4.371928</td>\n",
       "      <td>...</td>\n",
       "      <td>0.100</td>\n",
       "      <td>0.0</td>\n",
       "      <td>3105.444444</td>\n",
       "      <td>2782.422466</td>\n",
       "      <td>51.8</td>\n",
       "      <td>51.228898</td>\n",
       "      <td>18.533095</td>\n",
       "      <td>0.0</td>\n",
       "      <td>3.905225</td>\n",
       "      <td>0.700116</td>\n",
       "    </tr>\n",
       "  </tbody>\n",
       "</table>\n",
       "<p>5 rows × 22 columns</p>\n",
       "</div>"
      ],
      "text/plain": [
       "              user_ip domain      timestamp  attack  \\\n",
       "3942  186.169.146.147  e5.sk  1624438294225       1   \n",
       "4297  186.169.146.147  e5.sk  1624438295586       1   \n",
       "4590  186.169.146.147  e5.sk  1624438296656       1   \n",
       "6096   186.169.127.58  e5.sk  1624438302237       1   \n",
       "6187  186.169.146.147  e5.sk  1624438302672       1   \n",
       "\n",
       "                                             request  len  subdomains_count  \\\n",
       "3942  sebubx76xk4erpp3rwehoo3ubmbqeaqbaeaq.a.e.e5.sk   40                 3   \n",
       "4297  4az3kiecotwu3okbtvfm7pdpcabqeaqbaeaq.a.e.e5.sk   40                 3   \n",
       "4590  x3i2wbqsiucuviqyfaaoxz3lzybqeaqbaeaq.a.e.e5.sk   40                 3   \n",
       "6096  ez2vzwchw3ce5m6wz6cw3nnc2ibqeaqbaeaq.a.e.e5.sk   40                 3   \n",
       "6187  htm7xrligq2enc4lsjhkzdnd6mbqeaqbaeaq.a.e.e5.sk   40                 3   \n",
       "\n",
       "      w_count  w_max   entropy  ...  digits_ratio  uppercase_ratio  \\\n",
       "3942        3      3  3.975071  ...         0.125              0.0   \n",
       "4297        5      3  4.146439  ...         0.100              0.0   \n",
       "4590        1      3  3.987326  ...         0.075              0.0   \n",
       "6096        1      3  3.893943  ...         0.175              0.0   \n",
       "6187        3      3  4.371928  ...         0.100              0.0   \n",
       "\n",
       "         time_avg   time_stdev  size_avg  size_stdev  throughput  unique  \\\n",
       "3942  2197.222222  2875.261022      48.2   53.370404   24.372977     0.0   \n",
       "4297  2348.444444  2779.448601      48.2   53.370404   22.803615     0.0   \n",
       "4590  2460.111111  2695.151964      51.8   51.228898   23.394454     0.0   \n",
       "6096  1799.222222  1935.781934      44.0   27.712813   27.170557     0.0   \n",
       "6187  3105.444444  2782.422466      51.8   51.228898   18.533095     0.0   \n",
       "\n",
       "      entropy_avg  entropy_stdev  \n",
       "3942     3.691242       0.910175  \n",
       "4297     3.685581       0.906808  \n",
       "4590     3.884313       0.687639  \n",
       "6096     3.835620       0.663023  \n",
       "6187     3.905225       0.700116  \n",
       "\n",
       "[5 rows x 22 columns]"
      ]
     },
     "execution_count": 6,
     "metadata": {},
     "output_type": "execute_result"
    }
   ],
   "source": [
    "data[\"attack\"]=data[\"attack\"].astype(int)\n",
    "n=len(data[data['attack'] == 1])\n",
    "label1 = data[data['attack'] == 1]\n",
    "label0 = data[data['attack'] == 0].sample(n, random_state=42)\n",
    "data = pd.concat([label1, label0])\n",
    "data.head()"
   ]
  },
  {
   "cell_type": "code",
   "execution_count": 7,
   "id": "40fe4660",
   "metadata": {
    "execution": {
     "iopub.execute_input": "2024-03-26T07:33:53.472017Z",
     "iopub.status.busy": "2024-03-26T07:33:53.471565Z",
     "iopub.status.idle": "2024-03-26T07:33:53.580990Z",
     "shell.execute_reply": "2024-03-26T07:33:53.579671Z"
    },
    "papermill": {
     "duration": 0.286733,
     "end_time": "2024-03-26T07:33:53.583812",
     "exception": false,
     "start_time": "2024-03-26T07:33:53.297079",
     "status": "completed"
    },
    "tags": []
   },
   "outputs": [
    {
     "name": "stdout",
     "output_type": "stream",
     "text": [
      "174779\n",
      "174779\n"
     ]
    }
   ],
   "source": [
    "print(len(data[data['attack'] == 1]))\n",
    "print(len(data[data['attack'] == 0]))\n",
    "X = data[[\"len\",\"subdomains_count\",\"w_count\",\"w_max\",\"entropy\",\"w_max_ratio\",\"w_count_ratio\",\"digits_ratio\",\"uppercase_ratio\",\"time_avg\",\"time_stdev\",\"size_avg\",\"size_stdev\",\"throughput\",\"unique\",\"entropy_avg\",\"entropy_stdev\"]]\n",
    "Y = data[\"attack\"]"
   ]
  },
  {
   "cell_type": "code",
   "execution_count": 8,
   "id": "24c1c83c",
   "metadata": {
    "execution": {
     "iopub.execute_input": "2024-03-26T07:33:53.726165Z",
     "iopub.status.busy": "2024-03-26T07:33:53.725129Z",
     "iopub.status.idle": "2024-03-26T07:33:53.875542Z",
     "shell.execute_reply": "2024-03-26T07:33:53.874368Z"
    },
    "papermill": {
     "duration": 0.224489,
     "end_time": "2024-03-26T07:33:53.878402",
     "exception": false,
     "start_time": "2024-03-26T07:33:53.653913",
     "status": "completed"
    },
    "tags": []
   },
   "outputs": [],
   "source": [
    "from sklearn.model_selection import train_test_split\n",
    "\n",
    "X_train, X_test, Y_train, Y_test = train_test_split(X, Y, test_size=0.20, random_state=29)\n",
    "\n",
    "X_train, Y_train = shuffle(X_train, Y_train)\n",
    "X_test, Y_test = shuffle(X_test, Y_test)"
   ]
  },
  {
   "cell_type": "code",
   "execution_count": 9,
   "id": "d129a3b5",
   "metadata": {
    "execution": {
     "iopub.execute_input": "2024-03-26T07:33:54.021593Z",
     "iopub.status.busy": "2024-03-26T07:33:54.021187Z",
     "iopub.status.idle": "2024-03-26T07:34:02.260375Z",
     "shell.execute_reply": "2024-03-26T07:34:02.258934Z"
    },
    "papermill": {
     "duration": 8.314152,
     "end_time": "2024-03-26T07:34:02.263462",
     "exception": false,
     "start_time": "2024-03-26T07:33:53.949310",
     "status": "completed"
    },
    "tags": []
   },
   "outputs": [
    {
     "data": {
      "text/html": [
       "<style>#sk-container-id-1 {color: black;background-color: white;}#sk-container-id-1 pre{padding: 0;}#sk-container-id-1 div.sk-toggleable {background-color: white;}#sk-container-id-1 label.sk-toggleable__label {cursor: pointer;display: block;width: 100%;margin-bottom: 0;padding: 0.3em;box-sizing: border-box;text-align: center;}#sk-container-id-1 label.sk-toggleable__label-arrow:before {content: \"▸\";float: left;margin-right: 0.25em;color: #696969;}#sk-container-id-1 label.sk-toggleable__label-arrow:hover:before {color: black;}#sk-container-id-1 div.sk-estimator:hover label.sk-toggleable__label-arrow:before {color: black;}#sk-container-id-1 div.sk-toggleable__content {max-height: 0;max-width: 0;overflow: hidden;text-align: left;background-color: #f0f8ff;}#sk-container-id-1 div.sk-toggleable__content pre {margin: 0.2em;color: black;border-radius: 0.25em;background-color: #f0f8ff;}#sk-container-id-1 input.sk-toggleable__control:checked~div.sk-toggleable__content {max-height: 200px;max-width: 100%;overflow: auto;}#sk-container-id-1 input.sk-toggleable__control:checked~label.sk-toggleable__label-arrow:before {content: \"▾\";}#sk-container-id-1 div.sk-estimator input.sk-toggleable__control:checked~label.sk-toggleable__label {background-color: #d4ebff;}#sk-container-id-1 div.sk-label input.sk-toggleable__control:checked~label.sk-toggleable__label {background-color: #d4ebff;}#sk-container-id-1 input.sk-hidden--visually {border: 0;clip: rect(1px 1px 1px 1px);clip: rect(1px, 1px, 1px, 1px);height: 1px;margin: -1px;overflow: hidden;padding: 0;position: absolute;width: 1px;}#sk-container-id-1 div.sk-estimator {font-family: monospace;background-color: #f0f8ff;border: 1px dotted black;border-radius: 0.25em;box-sizing: border-box;margin-bottom: 0.5em;}#sk-container-id-1 div.sk-estimator:hover {background-color: #d4ebff;}#sk-container-id-1 div.sk-parallel-item::after {content: \"\";width: 100%;border-bottom: 1px solid gray;flex-grow: 1;}#sk-container-id-1 div.sk-label:hover label.sk-toggleable__label {background-color: #d4ebff;}#sk-container-id-1 div.sk-serial::before {content: \"\";position: absolute;border-left: 1px solid gray;box-sizing: border-box;top: 0;bottom: 0;left: 50%;z-index: 0;}#sk-container-id-1 div.sk-serial {display: flex;flex-direction: column;align-items: center;background-color: white;padding-right: 0.2em;padding-left: 0.2em;position: relative;}#sk-container-id-1 div.sk-item {position: relative;z-index: 1;}#sk-container-id-1 div.sk-parallel {display: flex;align-items: stretch;justify-content: center;background-color: white;position: relative;}#sk-container-id-1 div.sk-item::before, #sk-container-id-1 div.sk-parallel-item::before {content: \"\";position: absolute;border-left: 1px solid gray;box-sizing: border-box;top: 0;bottom: 0;left: 50%;z-index: -1;}#sk-container-id-1 div.sk-parallel-item {display: flex;flex-direction: column;z-index: 1;position: relative;background-color: white;}#sk-container-id-1 div.sk-parallel-item:first-child::after {align-self: flex-end;width: 50%;}#sk-container-id-1 div.sk-parallel-item:last-child::after {align-self: flex-start;width: 50%;}#sk-container-id-1 div.sk-parallel-item:only-child::after {width: 0;}#sk-container-id-1 div.sk-dashed-wrapped {border: 1px dashed gray;margin: 0 0.4em 0.5em 0.4em;box-sizing: border-box;padding-bottom: 0.4em;background-color: white;}#sk-container-id-1 div.sk-label label {font-family: monospace;font-weight: bold;display: inline-block;line-height: 1.2em;}#sk-container-id-1 div.sk-label-container {text-align: center;}#sk-container-id-1 div.sk-container {/* jupyter's `normalize.less` sets `[hidden] { display: none; }` but bootstrap.min.css set `[hidden] { display: none !important; }` so we also need the `!important` here to be able to override the default hidden behavior on the sphinx rendered scikit-learn.org. See: https://github.com/scikit-learn/scikit-learn/issues/21755 */display: inline-block !important;position: relative;}#sk-container-id-1 div.sk-text-repr-fallback {display: none;}</style><div id=\"sk-container-id-1\" class=\"sk-top-container\"><div class=\"sk-text-repr-fallback\"><pre>DecisionTreeClassifier()</pre><b>In a Jupyter environment, please rerun this cell to show the HTML representation or trust the notebook. <br />On GitHub, the HTML representation is unable to render, please try loading this page with nbviewer.org.</b></div><div class=\"sk-container\" hidden><div class=\"sk-item\"><div class=\"sk-estimator sk-toggleable\"><input class=\"sk-toggleable__control sk-hidden--visually\" id=\"sk-estimator-id-1\" type=\"checkbox\" checked><label for=\"sk-estimator-id-1\" class=\"sk-toggleable__label sk-toggleable__label-arrow\">DecisionTreeClassifier</label><div class=\"sk-toggleable__content\"><pre>DecisionTreeClassifier()</pre></div></div></div></div></div>"
      ],
      "text/plain": [
       "DecisionTreeClassifier()"
      ]
     },
     "execution_count": 9,
     "metadata": {},
     "output_type": "execute_result"
    }
   ],
   "source": [
    "from sklearn.tree import DecisionTreeClassifier\n",
    "model_dtc = DecisionTreeClassifier()\n",
    "model_dtc.fit(X_train, Y_train)"
   ]
  },
  {
   "cell_type": "code",
   "execution_count": 10,
   "id": "fef7bbbf",
   "metadata": {
    "execution": {
     "iopub.execute_input": "2024-03-26T07:34:02.409413Z",
     "iopub.status.busy": "2024-03-26T07:34:02.409002Z",
     "iopub.status.idle": "2024-03-26T07:34:02.540477Z",
     "shell.execute_reply": "2024-03-26T07:34:02.539461Z"
    },
    "papermill": {
     "duration": 0.20679,
     "end_time": "2024-03-26T07:34:02.543298",
     "exception": false,
     "start_time": "2024-03-26T07:34:02.336508",
     "status": "completed"
    },
    "tags": []
   },
   "outputs": [
    {
     "data": {
      "text/html": [
       "<style>#sk-container-id-2 {color: black;background-color: white;}#sk-container-id-2 pre{padding: 0;}#sk-container-id-2 div.sk-toggleable {background-color: white;}#sk-container-id-2 label.sk-toggleable__label {cursor: pointer;display: block;width: 100%;margin-bottom: 0;padding: 0.3em;box-sizing: border-box;text-align: center;}#sk-container-id-2 label.sk-toggleable__label-arrow:before {content: \"▸\";float: left;margin-right: 0.25em;color: #696969;}#sk-container-id-2 label.sk-toggleable__label-arrow:hover:before {color: black;}#sk-container-id-2 div.sk-estimator:hover label.sk-toggleable__label-arrow:before {color: black;}#sk-container-id-2 div.sk-toggleable__content {max-height: 0;max-width: 0;overflow: hidden;text-align: left;background-color: #f0f8ff;}#sk-container-id-2 div.sk-toggleable__content pre {margin: 0.2em;color: black;border-radius: 0.25em;background-color: #f0f8ff;}#sk-container-id-2 input.sk-toggleable__control:checked~div.sk-toggleable__content {max-height: 200px;max-width: 100%;overflow: auto;}#sk-container-id-2 input.sk-toggleable__control:checked~label.sk-toggleable__label-arrow:before {content: \"▾\";}#sk-container-id-2 div.sk-estimator input.sk-toggleable__control:checked~label.sk-toggleable__label {background-color: #d4ebff;}#sk-container-id-2 div.sk-label input.sk-toggleable__control:checked~label.sk-toggleable__label {background-color: #d4ebff;}#sk-container-id-2 input.sk-hidden--visually {border: 0;clip: rect(1px 1px 1px 1px);clip: rect(1px, 1px, 1px, 1px);height: 1px;margin: -1px;overflow: hidden;padding: 0;position: absolute;width: 1px;}#sk-container-id-2 div.sk-estimator {font-family: monospace;background-color: #f0f8ff;border: 1px dotted black;border-radius: 0.25em;box-sizing: border-box;margin-bottom: 0.5em;}#sk-container-id-2 div.sk-estimator:hover {background-color: #d4ebff;}#sk-container-id-2 div.sk-parallel-item::after {content: \"\";width: 100%;border-bottom: 1px solid gray;flex-grow: 1;}#sk-container-id-2 div.sk-label:hover label.sk-toggleable__label {background-color: #d4ebff;}#sk-container-id-2 div.sk-serial::before {content: \"\";position: absolute;border-left: 1px solid gray;box-sizing: border-box;top: 0;bottom: 0;left: 50%;z-index: 0;}#sk-container-id-2 div.sk-serial {display: flex;flex-direction: column;align-items: center;background-color: white;padding-right: 0.2em;padding-left: 0.2em;position: relative;}#sk-container-id-2 div.sk-item {position: relative;z-index: 1;}#sk-container-id-2 div.sk-parallel {display: flex;align-items: stretch;justify-content: center;background-color: white;position: relative;}#sk-container-id-2 div.sk-item::before, #sk-container-id-2 div.sk-parallel-item::before {content: \"\";position: absolute;border-left: 1px solid gray;box-sizing: border-box;top: 0;bottom: 0;left: 50%;z-index: -1;}#sk-container-id-2 div.sk-parallel-item {display: flex;flex-direction: column;z-index: 1;position: relative;background-color: white;}#sk-container-id-2 div.sk-parallel-item:first-child::after {align-self: flex-end;width: 50%;}#sk-container-id-2 div.sk-parallel-item:last-child::after {align-self: flex-start;width: 50%;}#sk-container-id-2 div.sk-parallel-item:only-child::after {width: 0;}#sk-container-id-2 div.sk-dashed-wrapped {border: 1px dashed gray;margin: 0 0.4em 0.5em 0.4em;box-sizing: border-box;padding-bottom: 0.4em;background-color: white;}#sk-container-id-2 div.sk-label label {font-family: monospace;font-weight: bold;display: inline-block;line-height: 1.2em;}#sk-container-id-2 div.sk-label-container {text-align: center;}#sk-container-id-2 div.sk-container {/* jupyter's `normalize.less` sets `[hidden] { display: none; }` but bootstrap.min.css set `[hidden] { display: none !important; }` so we also need the `!important` here to be able to override the default hidden behavior on the sphinx rendered scikit-learn.org. See: https://github.com/scikit-learn/scikit-learn/issues/21755 */display: inline-block !important;position: relative;}#sk-container-id-2 div.sk-text-repr-fallback {display: none;}</style><div id=\"sk-container-id-2\" class=\"sk-top-container\"><div class=\"sk-text-repr-fallback\"><pre>GaussianNB()</pre><b>In a Jupyter environment, please rerun this cell to show the HTML representation or trust the notebook. <br />On GitHub, the HTML representation is unable to render, please try loading this page with nbviewer.org.</b></div><div class=\"sk-container\" hidden><div class=\"sk-item\"><div class=\"sk-estimator sk-toggleable\"><input class=\"sk-toggleable__control sk-hidden--visually\" id=\"sk-estimator-id-2\" type=\"checkbox\" checked><label for=\"sk-estimator-id-2\" class=\"sk-toggleable__label sk-toggleable__label-arrow\">GaussianNB</label><div class=\"sk-toggleable__content\"><pre>GaussianNB()</pre></div></div></div></div></div>"
      ],
      "text/plain": [
       "GaussianNB()"
      ]
     },
     "execution_count": 10,
     "metadata": {},
     "output_type": "execute_result"
    }
   ],
   "source": [
    "from sklearn.naive_bayes import GaussianNB\n",
    "model_nb = GaussianNB()\n",
    "model_nb.fit(X_train, Y_train)"
   ]
  },
  {
   "cell_type": "code",
   "execution_count": 11,
   "id": "879c3ecf",
   "metadata": {
    "execution": {
     "iopub.execute_input": "2024-03-26T07:34:02.692339Z",
     "iopub.status.busy": "2024-03-26T07:34:02.691807Z",
     "iopub.status.idle": "2024-03-26T07:34:02.858743Z",
     "shell.execute_reply": "2024-03-26T07:34:02.857469Z"
    },
    "papermill": {
     "duration": 0.245177,
     "end_time": "2024-03-26T07:34:02.861671",
     "exception": false,
     "start_time": "2024-03-26T07:34:02.616494",
     "status": "completed"
    },
    "tags": []
   },
   "outputs": [
    {
     "name": "stdout",
     "output_type": "stream",
     "text": [
      "Detection Accuracy:  99.92705115001716 %\n",
      "Classification Report:\n",
      "              precision    recall  f1-score   support\n",
      "\n",
      "           0       1.00      1.00      1.00     34941\n",
      "           1       1.00      1.00      1.00     34971\n",
      "\n",
      "    accuracy                           1.00     69912\n",
      "   macro avg       1.00      1.00      1.00     69912\n",
      "weighted avg       1.00      1.00      1.00     69912\n",
      "\n"
     ]
    }
   ],
   "source": [
    "y_preds_dtc = model_dtc.predict(X_test)\n",
    "print(\"Detection Accuracy: \",accuracy_score(Y_test, y_preds_dtc)*100,\"%\")\n",
    "print(\"Classification Report:\")\n",
    "print(classification_report(Y_test, y_preds_dtc))"
   ]
  },
  {
   "cell_type": "code",
   "execution_count": 12,
   "id": "2f517c19",
   "metadata": {
    "execution": {
     "iopub.execute_input": "2024-03-26T07:34:03.005084Z",
     "iopub.status.busy": "2024-03-26T07:34:03.004638Z",
     "iopub.status.idle": "2024-03-26T07:34:03.182638Z",
     "shell.execute_reply": "2024-03-26T07:34:03.181028Z"
    },
    "papermill": {
     "duration": 0.253585,
     "end_time": "2024-03-26T07:34:03.185327",
     "exception": false,
     "start_time": "2024-03-26T07:34:02.931742",
     "status": "completed"
    },
    "tags": []
   },
   "outputs": [
    {
     "name": "stdout",
     "output_type": "stream",
     "text": [
      "Detection Accuracy:  91.37773200595034 %\n",
      "Classification Report:\n",
      "              precision    recall  f1-score   support\n",
      "\n",
      "           0       0.88      0.96      0.92     34941\n",
      "           1       0.96      0.86      0.91     34971\n",
      "\n",
      "    accuracy                           0.91     69912\n",
      "   macro avg       0.92      0.91      0.91     69912\n",
      "weighted avg       0.92      0.91      0.91     69912\n",
      "\n"
     ]
    }
   ],
   "source": [
    "y_preds_nb = model_nb.predict(X_test)\n",
    "print(\"Detection Accuracy: \",accuracy_score(Y_test, y_preds_nb)*100,\"%\")\n",
    "print(\"Classification Report:\")\n",
    "print(classification_report(Y_test, y_preds_nb))"
   ]
  }
 ],
 "metadata": {
  "kaggle": {
   "accelerator": "none",
   "dataSources": [],
   "dockerImageVersionId": 30673,
   "isGpuEnabled": false,
   "isInternetEnabled": true,
   "language": "python",
   "sourceType": "notebook"
  },
  "kernelspec": {
   "display_name": "Python 3",
   "language": "python",
   "name": "python3"
  },
  "language_info": {
   "codemirror_mode": {
    "name": "ipython",
    "version": 3
   },
   "file_extension": ".py",
   "mimetype": "text/x-python",
   "name": "python",
   "nbconvert_exporter": "python",
   "pygments_lexer": "ipython3",
   "version": "3.10.13"
  },
  "papermill": {
   "default_parameters": {},
   "duration": 399.063401,
   "end_time": "2024-03-26T07:34:05.782706",
   "environment_variables": {},
   "exception": null,
   "input_path": "__notebook__.ipynb",
   "output_path": "__notebook__.ipynb",
   "parameters": {},
   "start_time": "2024-03-26T07:27:26.719305",
   "version": "2.5.0"
  }
 },
 "nbformat": 4,
 "nbformat_minor": 5
}
